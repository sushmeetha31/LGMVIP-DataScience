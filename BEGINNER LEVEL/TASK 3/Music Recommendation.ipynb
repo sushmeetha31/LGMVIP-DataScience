{
 "cells": [
  {
   "cell_type": "markdown",
   "id": "89259f71",
   "metadata": {},
   "source": [
    "# TASK 3"
   ]
  },
  {
   "cell_type": "markdown",
   "id": "90f47115",
   "metadata": {},
   "source": [
    "# Music Recommendation"
   ]
  },
  {
   "cell_type": "markdown",
   "id": "027f99b9",
   "metadata": {},
   "source": [
    "Music recommender systems can suggest songs to users based on their listening patterns."
   ]
  },
  {
   "cell_type": "markdown",
   "id": "3aabf7d6",
   "metadata": {},
   "source": [
    "# IMPORTING NECESSARY LIBRARIES"
   ]
  },
  {
   "cell_type": "code",
   "execution_count": 2,
   "id": "85848b32",
   "metadata": {},
   "outputs": [],
   "source": [
    "import pandas as pd\n",
    "import numpy as np\n",
    "import matplotlib.pyplot as plt\n",
    "import seaborn as sns"
   ]
  },
  {
   "cell_type": "markdown",
   "id": "b7ba9104",
   "metadata": {},
   "source": [
    "# IMPORTING DATASET"
   ]
  },
  {
   "cell_type": "code",
   "execution_count": 16,
   "id": "e5394b58",
   "metadata": {},
   "outputs": [],
   "source": [
    "df1 = pd.read_csv(\"users.csv\")\n",
    "df2 = pd.read_csv(\"songs.csv\")"
   ]
  },
  {
   "cell_type": "code",
   "execution_count": 17,
   "id": "1de0f3fb",
   "metadata": {},
   "outputs": [
    {
     "data": {
      "text/html": [
       "<div>\n",
       "<style scoped>\n",
       "    .dataframe tbody tr th:only-of-type {\n",
       "        vertical-align: middle;\n",
       "    }\n",
       "\n",
       "    .dataframe tbody tr th {\n",
       "        vertical-align: top;\n",
       "    }\n",
       "\n",
       "    .dataframe thead th {\n",
       "        text-align: right;\n",
       "    }\n",
       "</style>\n",
       "<table border=\"1\" class=\"dataframe\">\n",
       "  <thead>\n",
       "    <tr style=\"text-align: right;\">\n",
       "      <th></th>\n",
       "      <th>user_id</th>\n",
       "      <th>song_id</th>\n",
       "      <th>listen_count</th>\n",
       "    </tr>\n",
       "  </thead>\n",
       "  <tbody>\n",
       "    <tr>\n",
       "      <th>0</th>\n",
       "      <td>b80344d063b5ccb3212f76538f3d9e43d87dca9e</td>\n",
       "      <td>SOAKIMP12A8C130995</td>\n",
       "      <td>1</td>\n",
       "    </tr>\n",
       "    <tr>\n",
       "      <th>1</th>\n",
       "      <td>b80344d063b5ccb3212f76538f3d9e43d87dca9e</td>\n",
       "      <td>SOBBMDR12A8C13253B</td>\n",
       "      <td>2</td>\n",
       "    </tr>\n",
       "    <tr>\n",
       "      <th>2</th>\n",
       "      <td>b80344d063b5ccb3212f76538f3d9e43d87dca9e</td>\n",
       "      <td>SOBXHDL12A81C204C0</td>\n",
       "      <td>1</td>\n",
       "    </tr>\n",
       "    <tr>\n",
       "      <th>3</th>\n",
       "      <td>b80344d063b5ccb3212f76538f3d9e43d87dca9e</td>\n",
       "      <td>SOBYHAJ12A6701BF1D</td>\n",
       "      <td>1</td>\n",
       "    </tr>\n",
       "    <tr>\n",
       "      <th>4</th>\n",
       "      <td>b80344d063b5ccb3212f76538f3d9e43d87dca9e</td>\n",
       "      <td>SODACBL12A8C13C273</td>\n",
       "      <td>1</td>\n",
       "    </tr>\n",
       "  </tbody>\n",
       "</table>\n",
       "</div>"
      ],
      "text/plain": [
       "                                    user_id             song_id  listen_count\n",
       "0  b80344d063b5ccb3212f76538f3d9e43d87dca9e  SOAKIMP12A8C130995             1\n",
       "1  b80344d063b5ccb3212f76538f3d9e43d87dca9e  SOBBMDR12A8C13253B             2\n",
       "2  b80344d063b5ccb3212f76538f3d9e43d87dca9e  SOBXHDL12A81C204C0             1\n",
       "3  b80344d063b5ccb3212f76538f3d9e43d87dca9e  SOBYHAJ12A6701BF1D             1\n",
       "4  b80344d063b5ccb3212f76538f3d9e43d87dca9e  SODACBL12A8C13C273             1"
      ]
     },
     "execution_count": 17,
     "metadata": {},
     "output_type": "execute_result"
    }
   ],
   "source": [
    "df1.head()"
   ]
  },
  {
   "cell_type": "code",
   "execution_count": 18,
   "id": "282fd6da",
   "metadata": {},
   "outputs": [
    {
     "data": {
      "text/html": [
       "<div>\n",
       "<style scoped>\n",
       "    .dataframe tbody tr th:only-of-type {\n",
       "        vertical-align: middle;\n",
       "    }\n",
       "\n",
       "    .dataframe tbody tr th {\n",
       "        vertical-align: top;\n",
       "    }\n",
       "\n",
       "    .dataframe thead th {\n",
       "        text-align: right;\n",
       "    }\n",
       "</style>\n",
       "<table border=\"1\" class=\"dataframe\">\n",
       "  <thead>\n",
       "    <tr style=\"text-align: right;\">\n",
       "      <th></th>\n",
       "      <th>song_id</th>\n",
       "      <th>title</th>\n",
       "      <th>release</th>\n",
       "      <th>artist_name</th>\n",
       "      <th>year</th>\n",
       "    </tr>\n",
       "  </thead>\n",
       "  <tbody>\n",
       "    <tr>\n",
       "      <th>0</th>\n",
       "      <td>SOQMMHC12AB0180CB8</td>\n",
       "      <td>Silent Night</td>\n",
       "      <td>Monster Ballads X-Mas</td>\n",
       "      <td>Faster Pussy cat</td>\n",
       "      <td>2003</td>\n",
       "    </tr>\n",
       "    <tr>\n",
       "      <th>1</th>\n",
       "      <td>SOVFVAK12A8C1350D9</td>\n",
       "      <td>Tanssi vaan</td>\n",
       "      <td>Karkuteillä</td>\n",
       "      <td>Karkkiautomaatti</td>\n",
       "      <td>1995</td>\n",
       "    </tr>\n",
       "    <tr>\n",
       "      <th>2</th>\n",
       "      <td>SOGTUKN12AB017F4F1</td>\n",
       "      <td>No One Could Ever</td>\n",
       "      <td>Butter</td>\n",
       "      <td>Hudson Mohawke</td>\n",
       "      <td>2006</td>\n",
       "    </tr>\n",
       "    <tr>\n",
       "      <th>3</th>\n",
       "      <td>SOBNYVR12A8C13558C</td>\n",
       "      <td>Si Vos Querés</td>\n",
       "      <td>De Culo</td>\n",
       "      <td>Yerba Brava</td>\n",
       "      <td>2003</td>\n",
       "    </tr>\n",
       "    <tr>\n",
       "      <th>4</th>\n",
       "      <td>SOHSBXH12A8C13B0DF</td>\n",
       "      <td>Tangle Of Aspens</td>\n",
       "      <td>Rene Ablaze Presents Winter Sessions</td>\n",
       "      <td>Der Mystic</td>\n",
       "      <td>0</td>\n",
       "    </tr>\n",
       "  </tbody>\n",
       "</table>\n",
       "</div>"
      ],
      "text/plain": [
       "              song_id              title  \\\n",
       "0  SOQMMHC12AB0180CB8       Silent Night   \n",
       "1  SOVFVAK12A8C1350D9        Tanssi vaan   \n",
       "2  SOGTUKN12AB017F4F1  No One Could Ever   \n",
       "3  SOBNYVR12A8C13558C      Si Vos Querés   \n",
       "4  SOHSBXH12A8C13B0DF   Tangle Of Aspens   \n",
       "\n",
       "                                release       artist_name  year  \n",
       "0                 Monster Ballads X-Mas  Faster Pussy cat  2003  \n",
       "1                           Karkuteillä  Karkkiautomaatti  1995  \n",
       "2                                Butter    Hudson Mohawke  2006  \n",
       "3                               De Culo       Yerba Brava  2003  \n",
       "4  Rene Ablaze Presents Winter Sessions        Der Mystic     0  "
      ]
     },
     "execution_count": 18,
     "metadata": {},
     "output_type": "execute_result"
    }
   ],
   "source": [
    "df2.head()"
   ]
  },
  {
   "cell_type": "markdown",
   "id": "c42ea5ee",
   "metadata": {},
   "source": [
    "# MODIFYING THE DATASET "
   ]
  },
  {
   "cell_type": "code",
   "execution_count": 19,
   "id": "5ff536c6",
   "metadata": {},
   "outputs": [
    {
     "data": {
      "text/html": [
       "<div>\n",
       "<style scoped>\n",
       "    .dataframe tbody tr th:only-of-type {\n",
       "        vertical-align: middle;\n",
       "    }\n",
       "\n",
       "    .dataframe tbody tr th {\n",
       "        vertical-align: top;\n",
       "    }\n",
       "\n",
       "    .dataframe thead th {\n",
       "        text-align: right;\n",
       "    }\n",
       "</style>\n",
       "<table border=\"1\" class=\"dataframe\">\n",
       "  <thead>\n",
       "    <tr style=\"text-align: right;\">\n",
       "      <th></th>\n",
       "      <th>user_id</th>\n",
       "      <th>song_id</th>\n",
       "      <th>listen_count</th>\n",
       "    </tr>\n",
       "  </thead>\n",
       "  <tbody>\n",
       "    <tr>\n",
       "      <th>0</th>\n",
       "      <td>b80344d063b5ccb3212f76538f3d9e43d87dca9e</td>\n",
       "      <td>SOAKIMP12A8C130995</td>\n",
       "      <td>1</td>\n",
       "    </tr>\n",
       "    <tr>\n",
       "      <th>1</th>\n",
       "      <td>b80344d063b5ccb3212f76538f3d9e43d87dca9e</td>\n",
       "      <td>SOBBMDR12A8C13253B</td>\n",
       "      <td>2</td>\n",
       "    </tr>\n",
       "    <tr>\n",
       "      <th>2</th>\n",
       "      <td>b80344d063b5ccb3212f76538f3d9e43d87dca9e</td>\n",
       "      <td>SOBXHDL12A81C204C0</td>\n",
       "      <td>1</td>\n",
       "    </tr>\n",
       "    <tr>\n",
       "      <th>3</th>\n",
       "      <td>b80344d063b5ccb3212f76538f3d9e43d87dca9e</td>\n",
       "      <td>SOBYHAJ12A6701BF1D</td>\n",
       "      <td>1</td>\n",
       "    </tr>\n",
       "    <tr>\n",
       "      <th>4</th>\n",
       "      <td>b80344d063b5ccb3212f76538f3d9e43d87dca9e</td>\n",
       "      <td>SODACBL12A8C13C273</td>\n",
       "      <td>1</td>\n",
       "    </tr>\n",
       "  </tbody>\n",
       "</table>\n",
       "</div>"
      ],
      "text/plain": [
       "                                    user_id             song_id  listen_count\n",
       "0  b80344d063b5ccb3212f76538f3d9e43d87dca9e  SOAKIMP12A8C130995             1\n",
       "1  b80344d063b5ccb3212f76538f3d9e43d87dca9e  SOBBMDR12A8C13253B             2\n",
       "2  b80344d063b5ccb3212f76538f3d9e43d87dca9e  SOBXHDL12A81C204C0             1\n",
       "3  b80344d063b5ccb3212f76538f3d9e43d87dca9e  SOBYHAJ12A6701BF1D             1\n",
       "4  b80344d063b5ccb3212f76538f3d9e43d87dca9e  SODACBL12A8C13C273             1"
      ]
     },
     "execution_count": 19,
     "metadata": {},
     "output_type": "execute_result"
    }
   ],
   "source": [
    "df1[\"listen_count\"] = df1[\"listen_count\"].astype('Int64')\n",
    "df1.head()"
   ]
  },
  {
   "cell_type": "code",
   "execution_count": 20,
   "id": "66e8e593",
   "metadata": {},
   "outputs": [
    {
     "data": {
      "text/html": [
       "<div>\n",
       "<style scoped>\n",
       "    .dataframe tbody tr th:only-of-type {\n",
       "        vertical-align: middle;\n",
       "    }\n",
       "\n",
       "    .dataframe tbody tr th {\n",
       "        vertical-align: top;\n",
       "    }\n",
       "\n",
       "    .dataframe thead th {\n",
       "        text-align: right;\n",
       "    }\n",
       "</style>\n",
       "<table border=\"1\" class=\"dataframe\">\n",
       "  <thead>\n",
       "    <tr style=\"text-align: right;\">\n",
       "      <th></th>\n",
       "      <th>song_id</th>\n",
       "      <th>title</th>\n",
       "      <th>album</th>\n",
       "      <th>artist</th>\n",
       "      <th>year</th>\n",
       "    </tr>\n",
       "  </thead>\n",
       "  <tbody>\n",
       "    <tr>\n",
       "      <th>0</th>\n",
       "      <td>SOQMMHC12AB0180CB8</td>\n",
       "      <td>Silent Night</td>\n",
       "      <td>Monster Ballads X-Mas</td>\n",
       "      <td>Faster Pussy cat</td>\n",
       "      <td>2003</td>\n",
       "    </tr>\n",
       "    <tr>\n",
       "      <th>1</th>\n",
       "      <td>SOVFVAK12A8C1350D9</td>\n",
       "      <td>Tanssi vaan</td>\n",
       "      <td>Karkuteillä</td>\n",
       "      <td>Karkkiautomaatti</td>\n",
       "      <td>1995</td>\n",
       "    </tr>\n",
       "    <tr>\n",
       "      <th>2</th>\n",
       "      <td>SOGTUKN12AB017F4F1</td>\n",
       "      <td>No One Could Ever</td>\n",
       "      <td>Butter</td>\n",
       "      <td>Hudson Mohawke</td>\n",
       "      <td>2006</td>\n",
       "    </tr>\n",
       "    <tr>\n",
       "      <th>3</th>\n",
       "      <td>SOBNYVR12A8C13558C</td>\n",
       "      <td>Si Vos Querés</td>\n",
       "      <td>De Culo</td>\n",
       "      <td>Yerba Brava</td>\n",
       "      <td>2003</td>\n",
       "    </tr>\n",
       "    <tr>\n",
       "      <th>4</th>\n",
       "      <td>SOHSBXH12A8C13B0DF</td>\n",
       "      <td>Tangle Of Aspens</td>\n",
       "      <td>Rene Ablaze Presents Winter Sessions</td>\n",
       "      <td>Der Mystic</td>\n",
       "      <td>0</td>\n",
       "    </tr>\n",
       "  </tbody>\n",
       "</table>\n",
       "</div>"
      ],
      "text/plain": [
       "              song_id              title  \\\n",
       "0  SOQMMHC12AB0180CB8       Silent Night   \n",
       "1  SOVFVAK12A8C1350D9        Tanssi vaan   \n",
       "2  SOGTUKN12AB017F4F1  No One Could Ever   \n",
       "3  SOBNYVR12A8C13558C      Si Vos Querés   \n",
       "4  SOHSBXH12A8C13B0DF   Tangle Of Aspens   \n",
       "\n",
       "                                  album            artist  year  \n",
       "0                 Monster Ballads X-Mas  Faster Pussy cat  2003  \n",
       "1                           Karkuteillä  Karkkiautomaatti  1995  \n",
       "2                                Butter    Hudson Mohawke  2006  \n",
       "3                               De Culo       Yerba Brava  2003  \n",
       "4  Rene Ablaze Presents Winter Sessions        Der Mystic     0  "
      ]
     },
     "execution_count": 20,
     "metadata": {},
     "output_type": "execute_result"
    }
   ],
   "source": [
    "df2[\"year\"] = df2[\"year\"].astype('Int64')\n",
    "df2.rename(columns={\"release\": \"album\", \"artist_name\": \"artist\"}, inplace=True)\n",
    "df2.head()"
   ]
  },
  {
   "cell_type": "markdown",
   "id": "c7a4b3f5",
   "metadata": {},
   "source": [
    "# MERGING THE DATASET"
   ]
  },
  {
   "cell_type": "code",
   "execution_count": 22,
   "id": "eb976f11",
   "metadata": {},
   "outputs": [
    {
     "data": {
      "text/html": [
       "<div>\n",
       "<style scoped>\n",
       "    .dataframe tbody tr th:only-of-type {\n",
       "        vertical-align: middle;\n",
       "    }\n",
       "\n",
       "    .dataframe tbody tr th {\n",
       "        vertical-align: top;\n",
       "    }\n",
       "\n",
       "    .dataframe thead th {\n",
       "        text-align: right;\n",
       "    }\n",
       "</style>\n",
       "<table border=\"1\" class=\"dataframe\">\n",
       "  <thead>\n",
       "    <tr style=\"text-align: right;\">\n",
       "      <th></th>\n",
       "      <th>user_id</th>\n",
       "      <th>song_id</th>\n",
       "      <th>listen_count</th>\n",
       "      <th>album</th>\n",
       "      <th>artist</th>\n",
       "      <th>year</th>\n",
       "      <th>song</th>\n",
       "    </tr>\n",
       "  </thead>\n",
       "  <tbody>\n",
       "    <tr>\n",
       "      <th>0</th>\n",
       "      <td>b80344d063b5ccb3212f76538f3d9e43d87dca9e</td>\n",
       "      <td>SOAKIMP12A8C130995</td>\n",
       "      <td>1</td>\n",
       "      <td>Thicker Than Water</td>\n",
       "      <td>Jack Johnson</td>\n",
       "      <td>0</td>\n",
       "      <td>Jack Johnson - The Cove</td>\n",
       "    </tr>\n",
       "    <tr>\n",
       "      <th>1</th>\n",
       "      <td>b80344d063b5ccb3212f76538f3d9e43d87dca9e</td>\n",
       "      <td>SOBBMDR12A8C13253B</td>\n",
       "      <td>2</td>\n",
       "      <td>Flamenco Para Niños</td>\n",
       "      <td>Paco De Lucia</td>\n",
       "      <td>1976</td>\n",
       "      <td>Paco De Lucia - Entre Dos Aguas</td>\n",
       "    </tr>\n",
       "    <tr>\n",
       "      <th>2</th>\n",
       "      <td>b80344d063b5ccb3212f76538f3d9e43d87dca9e</td>\n",
       "      <td>SOBXHDL12A81C204C0</td>\n",
       "      <td>1</td>\n",
       "      <td>Graduation</td>\n",
       "      <td>Kanye West</td>\n",
       "      <td>2007</td>\n",
       "      <td>Kanye West - Stronger</td>\n",
       "    </tr>\n",
       "    <tr>\n",
       "      <th>3</th>\n",
       "      <td>b80344d063b5ccb3212f76538f3d9e43d87dca9e</td>\n",
       "      <td>SOBYHAJ12A6701BF1D</td>\n",
       "      <td>1</td>\n",
       "      <td>In Between Dreams</td>\n",
       "      <td>Jack Johnson</td>\n",
       "      <td>2005</td>\n",
       "      <td>Jack Johnson - Constellations</td>\n",
       "    </tr>\n",
       "    <tr>\n",
       "      <th>4</th>\n",
       "      <td>b80344d063b5ccb3212f76538f3d9e43d87dca9e</td>\n",
       "      <td>SODACBL12A8C13C273</td>\n",
       "      <td>1</td>\n",
       "      <td>There Is Nothing Left To Lose</td>\n",
       "      <td>Foo Fighters</td>\n",
       "      <td>1999</td>\n",
       "      <td>Foo Fighters - Learn To Fly</td>\n",
       "    </tr>\n",
       "  </tbody>\n",
       "</table>\n",
       "</div>"
      ],
      "text/plain": [
       "                                    user_id             song_id  listen_count  \\\n",
       "0  b80344d063b5ccb3212f76538f3d9e43d87dca9e  SOAKIMP12A8C130995             1   \n",
       "1  b80344d063b5ccb3212f76538f3d9e43d87dca9e  SOBBMDR12A8C13253B             2   \n",
       "2  b80344d063b5ccb3212f76538f3d9e43d87dca9e  SOBXHDL12A81C204C0             1   \n",
       "3  b80344d063b5ccb3212f76538f3d9e43d87dca9e  SOBYHAJ12A6701BF1D             1   \n",
       "4  b80344d063b5ccb3212f76538f3d9e43d87dca9e  SODACBL12A8C13C273             1   \n",
       "\n",
       "                           album         artist  year  \\\n",
       "0             Thicker Than Water   Jack Johnson     0   \n",
       "1            Flamenco Para Niños  Paco De Lucia  1976   \n",
       "2                     Graduation     Kanye West  2007   \n",
       "3              In Between Dreams   Jack Johnson  2005   \n",
       "4  There Is Nothing Left To Lose   Foo Fighters  1999   \n",
       "\n",
       "                              song  \n",
       "0          Jack Johnson - The Cove  \n",
       "1  Paco De Lucia - Entre Dos Aguas  \n",
       "2            Kanye West - Stronger  \n",
       "3    Jack Johnson - Constellations  \n",
       "4      Foo Fighters - Learn To Fly  "
      ]
     },
     "execution_count": 22,
     "metadata": {},
     "output_type": "execute_result"
    }
   ],
   "source": [
    "df = pd.merge(df1, df2.drop_duplicates([\"song_id\"]), on='song_id', how='left')\n",
    "df['song'] = df['artist'] + ' - ' + df['title']\n",
    "df = df.drop(['title'], axis=1)\n",
    "df = df.head(50000)\n",
    "df.head()"
   ]
  },
  {
   "cell_type": "markdown",
   "id": "c2243a0c",
   "metadata": {},
   "source": [
    "# DATA EXPLORATION"
   ]
  },
  {
   "cell_type": "code",
   "execution_count": 23,
   "id": "afe8b228",
   "metadata": {},
   "outputs": [
    {
     "name": "stdout",
     "output_type": "stream",
     "text": [
      "Number of entries in each column:\n",
      "\n"
     ]
    },
    {
     "data": {
      "text/plain": [
       "user_id         50000\n",
       "song_id         50000\n",
       "listen_count    50000\n",
       "album           50000\n",
       "artist          50000\n",
       "year            50000\n",
       "song            50000\n",
       "dtype: int64"
      ]
     },
     "execution_count": 23,
     "metadata": {},
     "output_type": "execute_result"
    }
   ],
   "source": [
    "print(\"Number of entries in each column:\\n\")\n",
    "df.count()"
   ]
  },
  {
   "cell_type": "code",
   "execution_count": 24,
   "id": "6afe6778",
   "metadata": {},
   "outputs": [
    {
     "name": "stdout",
     "output_type": "stream",
     "text": [
      "Number of unique users:  1879\n",
      "Number of artists:  3215\n",
      "Number of songs:  9370\n"
     ]
    }
   ],
   "source": [
    "print(\"Number of unique users: \", df.user_id.nunique(dropna = True))\n",
    "print(\"Number of artists: \", df.artist.nunique(dropna=True))\n",
    "print(\"Number of songs: \", df.song_id.nunique(dropna=True))"
   ]
  },
  {
   "cell_type": "code",
   "execution_count": 45,
   "id": "47f34781",
   "metadata": {},
   "outputs": [
    {
     "data": {
      "image/png": "[encoded data removed]",
      "text/plain": [
       "<Figure size 1440x720 with 1 Axes>"
      ]
     },
     "metadata": {},
     "output_type": "display_data"
    }
   ],
   "source": [
    "plt.figure(figsize=(20, 10))\n",
    "sns.set(rc={'axes.facecolor':'darkgrey', 'figure.facecolor':'darkgrey'})\n",
    "sns.countplot(x='year', data=df[-(df['year']==0)], color=\"red\")\n",
    "plt.xticks(rotation=90)\n",
    "plt.title(\"No. of Songs per Year\", fontsize=20)\n",
    "plt.xlabel(\"Year\", fontsize=22)\n",
    "plt.ylabel(\"Count\", fontsize=16)\n",
    "plt.show()"
   ]
  },
  {
   "cell_type": "code",
   "execution_count": 43,
   "id": "25316310",
   "metadata": {},
   "outputs": [
    {
     "data": {
      "image/png": "[encoded data removed]",
      "text/plain": [
       "<Figure size 1440x720 with 1 Axes>"
      ]
     },
     "metadata": {},
     "output_type": "display_data"
    }
   ],
   "source": [
    "plt.figure(figsize=(20,10))\n",
    "sns.set(rc={'axes.facecolor':'darkgrey', 'figure.facecolor':'darkgrey'})\n",
    "sns.barplot(x = (df['artist'].value_counts()[:10].index), y = (df['artist'].value_counts()[:10].values), color=\"red\")\n",
    "plt.title('No. of Listeners per Artist', fontsize=20)\n",
    "plt.xlabel('Artist', fontsize=22)\n",
    "plt.ylabel('Listeners', fontsize=16)\n",
    "plt.show()"
   ]
  },
  {
   "cell_type": "code",
   "execution_count": 39,
   "id": "e203afdb",
   "metadata": {},
   "outputs": [
    {
     "data": {
      "image/png": "[encoded data removed]",
      "text/plain": [
       "<Figure size 1440x720 with 1 Axes>"
      ]
     },
     "metadata": {},
     "output_type": "display_data"
    }
   ],
   "source": [
    "plt.figure(figsize=(20,10))\n",
    "sns.set(rc={'axes.facecolor':'darkgrey', 'figure.facecolor':'darkgrey'})\n",
    "sns.barplot(x = (df['song'].value_counts()[:10].values), y = (df['song'].value_counts()[:10].index), color=\"red\")\n",
    "plt.title('Most Popular Songs', fontsize=25)\n",
    "plt.xlabel('Listeners', fontsize=18)\n",
    "plt.ylabel('Songs', fontsize=20)\n",
    "plt.show()"
   ]
  },
  {
   "cell_type": "markdown",
   "id": "245f50f0",
   "metadata": {},
   "source": [
    "# RECOMMENDER ENGINE"
   ]
  },
  {
   "cell_type": "code",
   "execution_count": 46,
   "id": "3aa6786a",
   "metadata": {},
   "outputs": [],
   "source": [
    "class Engine():\n",
    "    def __init__(self, data, user_id, song):\n",
    "        self.data = data\n",
    "        self.user_id = user_id\n",
    "        self.song = song\n",
    "        self.glcm = None\n",
    "        \n",
    "    def get_song_history(self, user):\n",
    "        user_data = self.data[self.data[self.user_id] == user]\n",
    "        return list(user_data[self.song].unique())\n",
    "        \n",
    "    def get_users(self, item):\n",
    "        item_data = self.data[self.data[self.song] == item]\n",
    "        return set(item_data[self.user_id].unique())\n",
    "        \n",
    "    def get_all_songs(self):\n",
    "        return list(self.data[self.song].unique())\n",
    "        \n",
    "    def get_glcm(self, user_songs, all_songs):\n",
    "        users = []        \n",
    "        for i in range(0, len(user_songs)):\n",
    "            users.append(self.get_users(user_songs[i]))   \n",
    "        glcm = np.matrix(np.zeros(shape=(len(user_songs), len(all_songs))), float)\n",
    "\n",
    "        for i in range(0,len(all_songs)):\n",
    "            songs_i_data = self.data[self.data[self.song] == all_songs[i]]\n",
    "            users_i = set(songs_i_data[self.user_id].unique())\n",
    "            \n",
    "            for j in range(0,len(user_songs)):           \n",
    "                users_j = users[j]\n",
    "                users_intersection = users_i.intersection(users_j)\n",
    "               \n",
    "                users_union = users_i.union(users_j)\n",
    "                glcm[j,i] = float(len(users_intersection))/float(len(users_union))\n",
    "\n",
    "        return glcm\n",
    "\n",
    "    def generate_recommendations(self, user, glcm, all_songs, user_songs):\n",
    "        sim_scores = glcm.sum(axis=0)/float(glcm.shape[0])\n",
    "        sim_scores = np.array(sim_scores)[0].tolist()\n",
    " \n",
    "        sort_index = sorted(((e,i) for i,e in enumerate(list(sim_scores))), reverse=True)\n",
    "        columns = ['UserID', 'Song', 'Score', 'Rank']\n",
    "        df = pd.DataFrame(columns=columns)\n",
    "         \n",
    "        rank = 1 \n",
    "        for i in range(0,len(sort_index)):\n",
    "            if ~np.isnan(sort_index[i][0]) and all_songs[sort_index[i][1]] not in user_songs and rank <= 10:\n",
    "                df.loc[len(df)]=[user,all_songs[sort_index[i][1]],sort_index[i][0],rank]\n",
    "                rank = rank+1\n",
    "        \n",
    "        print(\"Music Recommendations: \\n\")\n",
    "        return df.drop(['UserID'], axis=1)\n",
    "\n",
    "    def get_recommendations(self, user):\n",
    "        user_songs = self.get_song_history(user)    \n",
    "        all_songs = self.get_all_songs()\n",
    "        glcm = self.get_glcm(user_songs, all_songs)\n",
    "        return self.generate_recommendations(user, glcm, all_songs, user_songs)\n",
    "\n",
    "    def get_similar_songs(self, item_list):\n",
    "        user_songs = item_list\n",
    "        all_songs = self.get_all_songs()\n",
    "        glcm = self.get_glcm(user_songs, all_songs)\n",
    "        return self.generate_recommendations(\"\", glcm, all_songs, user_songs)"
   ]
  },
  {
   "cell_type": "markdown",
   "id": "a89541d5",
   "metadata": {},
   "source": [
    " # GETTING SONG HISTORY OF USER  "
   ]
  },
  {
   "cell_type": "code",
   "execution_count": 55,
   "id": "368f5c56",
   "metadata": {},
   "outputs": [],
   "source": [
    "# At index(1000)\n",
    "eng = Engine(df, 'user_id', 'song')\n",
    "song_history = eng.get_song_history(df['user_id'][1000])"
   ]
  },
  {
   "cell_type": "code",
   "execution_count": 56,
   "id": "3e26464f",
   "metadata": {},
   "outputs": [
    {
     "name": "stdout",
     "output_type": "stream",
     "text": [
      "User Song History: \n",
      "\n",
      "Muse - Uprising\n",
      "Weezer - No One Else\n",
      "Yeah Yeah Yeahs - Runaway\n",
      "The Killers - Losing Touch\n",
      "The Rural Alberta Advantage - Don't Haunt This Place\n",
      "Florence + The Machine - Dog Days Are Over (Radio Edit)\n",
      "Bright Eyes - At The Bottom Of Everything\n",
      "Jason Mraz & Colbie Caillat - Lucky (Album Version)\n",
      "Weezer - Island In The Sun\n",
      "Tiny Vipers - They Might Follow You\n",
      "Fleet Foxes - Innocent Son\n",
      "Linkin Park - Bleed It Out [Live At Milton Keynes]\n",
      "Frightened Rabbit - Yawns\n",
      "Weezer - El Scorcho\n",
      "Coldplay - Clocks\n",
      "Adam Lambert - Whataya Want From Me\n",
      "Justin Bieber - Somebody To Love\n",
      "Katy Perry - Waking Up In Vegas (Calvin Harris Remix Edit)\n",
      "Emmy The Great - Mia\n",
      "Weezer - My Name Is Jonas\n",
      "Darwin Deez - Radar Detector\n",
      "Rihanna - Rehab\n",
      "Camera Obscura - Teenager\n",
      "Lily Allen - Not Big\n",
      "Timbaland / Justin Timberlake / Nelly Furtado - Give It To Me\n",
      "The New Pornographers - Falling Through Your Clothes\n",
      "Ray LaMontagne - Trouble (Album Version)\n",
      "Yeah Yeah Yeahs - Soft Shock\n",
      "Bright Eyes - Old Soul Song\n",
      "Deer Tick - These Old Shoes\n",
      "Plain White T's - Hey There Delilah\n",
      "Harmonia - Sehr kosmisch\n",
      "Amy Winehouse - Fuck Me Pumps\n",
      "Ray LaMontagne - Shelter\n",
      "Vampire Weekend - A-Punk (Album)\n",
      "Weezer - Susanne\n",
      "Justin Timberlake;Justin Timberlake featuring will.i.am - Damn Girl\n",
      "Florence + The Machine - Kiss With A Fist\n",
      "Weezer - Pork And Beans\n",
      "The New Pornographers - Execution Day\n",
      "Yeah Yeah Yeahs - Little Shadow\n",
      "Bon Iver - re:stacks\n",
      "The Kills - Superstition\n",
      "Bon Iver - Flume\n",
      "Kings Of Leon - Manhattan\n",
      "Beirut - The Penalty\n",
      "Amy Winehouse - Me & Mr Jones\n",
      "Amos Lee - Soul Suckers\n",
      "Cage The Elephant - Ain't No Rest For The Wicked (Original Version)\n",
      "Stone Temple Pilots - Plush (Acoustic)\n",
      "Coldplay - The Scientist\n",
      "Dixie Chicks - Not Ready To Make Nice\n",
      "The Killers - Somebody Told Me\n",
      "Montell Jordan - This Is How We Do It\n",
      "Charttraxx Karaoke - Fireflies\n",
      "Damien Rice - Amie\n",
      "LMFAO - Yes\n",
      "Kelly Clarkson - The Trouble With Love Is\n",
      "Yeah Yeah Yeahs - Hysteric\n",
      "Ray LaMontagne - Hold You In My Arms\n",
      "Soltero - Ghost At The Foot Of The Bed\n",
      "Discovery - So Insane\n",
      "Fleet Foxes - White Winter Hymnal\n",
      "Modest Mouse - Float On\n",
      "The Rolling Stones - Angie (1993 Digital Remaster)\n",
      "Weezer - Say It Ain't So\n",
      "The All-American Rejects - My Paper Heart\n",
      "Death Cab for Cutie - I Will Follow You into the Dark (Album Version)\n",
      "Radiohead - Creep (Explicit)\n",
      "Iron And Wine - Boy With The Coin\n",
      "Radiohead - (Nice Dream)\n",
      "Alicia Keys - If I Ain't Got You\n",
      "Vampire Weekend - Cousins\n",
      "Beyoncé - Dangerously In Love\n",
      "Benjy Ferree - Fear\n",
      "Steppenwolf - Magic Carpet Ride\n",
      "Lady GaGa - Alejandro\n",
      "Tokyo Police Club - Tessellate\n",
      "Lily Allen - Chinese\n",
      "Miley Cyrus - Goodbye\n",
      "Kings Of Leon - Revelry\n",
      "Bon Iver - Skinny Love\n",
      "Interpol - Public Pervert\n",
      "Damien Rice - Delicate\n",
      "Edward Sharpe & The Magnetic Zeros - Home\n",
      "Train - Marry Me\n",
      "Taylor Swift - Love Story\n",
      "The Avett Brothers - The Weight Of Lies\n",
      "John Mayer - Heartbreak Warfare\n",
      "Miley Cyrus - The Climb\n",
      "M.I.A. - Paper Planes\n",
      "The Strokes - You Only Live Once\n",
      "Lil Wayne / Eminem - Drop The World\n",
      "Kanye West - Late\n",
      "Kanye West - Hey Mama\n",
      "Weezer - Only In Dreams\n",
      "Miley Cyrus - Party In The U.S.A.\n",
      "LL Cool J - Doin' It\n",
      "Kings Of Leon - Use Somebody\n",
      "Modest Mouse - Heart Cooks Brain\n",
      "Foals - The French Open\n",
      "Coldplay - Fix You\n",
      "Yeah Yeah Yeahs - Gold Lion\n",
      "The Avett Brothers - Shame\n",
      "MGMT - Time To Pretend\n",
      "The Pussycat Dolls - When I Grow Up\n",
      "Weezer - The World Has Turned And Left Me Here\n",
      "Mariah Carey - Bye Bye\n",
      "Kings Of Leon - Joe's Head\n",
      "MGMT - Electric Feel\n",
      "The Verve - Bitter Sweet Symphony\n",
      "Yeah Yeah Yeahs - Heads Will Roll\n",
      "Amy Winehouse - Take The Box\n",
      "Gwen Stefani - Hollaback Girl\n",
      "Kings Of Leon - Ragoo\n",
      "Coldplay - Trouble\n",
      "The All-American Rejects - Swing_ Swing\n",
      "Amy Winehouse - He Can Only Hold Her\n"
     ]
    }
   ],
   "source": [
    "print(\"User Song History: \\n\")\n",
    "for song in song_history:\n",
    "  print(song)"
   ]
  },
  {
   "cell_type": "markdown",
   "id": "217b623d",
   "metadata": {},
   "source": [
    "# GETTING SIMILAR SONGS TO A SPECIFIED SONG"
   ]
  },
  {
   "cell_type": "code",
   "execution_count": 57,
   "id": "aa945222",
   "metadata": {},
   "outputs": [
    {
     "name": "stdout",
     "output_type": "stream",
     "text": [
      "Music Recommendations: \n",
      "\n"
     ]
    },
    {
     "data": {
      "text/html": [
       "<div>\n",
       "<style scoped>\n",
       "    .dataframe tbody tr th:only-of-type {\n",
       "        vertical-align: middle;\n",
       "    }\n",
       "\n",
       "    .dataframe tbody tr th {\n",
       "        vertical-align: top;\n",
       "    }\n",
       "\n",
       "    .dataframe thead th {\n",
       "        text-align: right;\n",
       "    }\n",
       "</style>\n",
       "<table border=\"1\" class=\"dataframe\">\n",
       "  <thead>\n",
       "    <tr style=\"text-align: right;\">\n",
       "      <th></th>\n",
       "      <th>Song</th>\n",
       "      <th>Score</th>\n",
       "      <th>Rank</th>\n",
       "    </tr>\n",
       "  </thead>\n",
       "  <tbody>\n",
       "    <tr>\n",
       "      <th>0</th>\n",
       "      <td>Coldplay - The Scientist</td>\n",
       "      <td>0.355556</td>\n",
       "      <td>1</td>\n",
       "    </tr>\n",
       "    <tr>\n",
       "      <th>1</th>\n",
       "      <td>Coldplay - Fix You</td>\n",
       "      <td>0.299065</td>\n",
       "      <td>2</td>\n",
       "    </tr>\n",
       "    <tr>\n",
       "      <th>2</th>\n",
       "      <td>Coldplay - Yellow</td>\n",
       "      <td>0.246032</td>\n",
       "      <td>3</td>\n",
       "    </tr>\n",
       "    <tr>\n",
       "      <th>3</th>\n",
       "      <td>Linkin Park - Bleed It Out [Live At Milton Key...</td>\n",
       "      <td>0.179688</td>\n",
       "      <td>4</td>\n",
       "    </tr>\n",
       "    <tr>\n",
       "      <th>4</th>\n",
       "      <td>Kings Of Leon - Use Somebody</td>\n",
       "      <td>0.175325</td>\n",
       "      <td>5</td>\n",
       "    </tr>\n",
       "    <tr>\n",
       "      <th>5</th>\n",
       "      <td>Lady GaGa - Alejandro</td>\n",
       "      <td>0.175182</td>\n",
       "      <td>6</td>\n",
       "    </tr>\n",
       "    <tr>\n",
       "      <th>6</th>\n",
       "      <td>Coldplay - In My Place</td>\n",
       "      <td>0.171429</td>\n",
       "      <td>7</td>\n",
       "    </tr>\n",
       "    <tr>\n",
       "      <th>7</th>\n",
       "      <td>Coldplay - Speed Of Sound</td>\n",
       "      <td>0.168317</td>\n",
       "      <td>8</td>\n",
       "    </tr>\n",
       "    <tr>\n",
       "      <th>8</th>\n",
       "      <td>Radiohead - Creep (Explicit)</td>\n",
       "      <td>0.167832</td>\n",
       "      <td>9</td>\n",
       "    </tr>\n",
       "    <tr>\n",
       "      <th>9</th>\n",
       "      <td>Taylor Swift - Love Story</td>\n",
       "      <td>0.166667</td>\n",
       "      <td>10</td>\n",
       "    </tr>\n",
       "  </tbody>\n",
       "</table>\n",
       "</div>"
      ],
      "text/plain": [
       "                                                Song     Score Rank\n",
       "0                           Coldplay - The Scientist  0.355556    1\n",
       "1                                 Coldplay - Fix You  0.299065    2\n",
       "2                                  Coldplay - Yellow  0.246032    3\n",
       "3  Linkin Park - Bleed It Out [Live At Milton Key...  0.179688    4\n",
       "4                       Kings Of Leon - Use Somebody  0.175325    5\n",
       "5                              Lady GaGa - Alejandro  0.175182    6\n",
       "6                             Coldplay - In My Place  0.171429    7\n",
       "7                          Coldplay - Speed Of Sound  0.168317    8\n",
       "8                       Radiohead - Creep (Explicit)  0.167832    9\n",
       "9                          Taylor Swift - Love Story  0.166667   10"
      ]
     },
     "execution_count": 57,
     "metadata": {},
     "output_type": "execute_result"
    }
   ],
   "source": [
    "eng.get_similar_songs(['Coldplay - Clocks'])"
   ]
  },
  {
   "cell_type": "markdown",
   "id": "061db538",
   "metadata": {},
   "source": [
    "# GETTING RECOMMENDATIONS FOR THE USER"
   ]
  },
  {
   "cell_type": "code",
   "execution_count": 58,
   "id": "3100838a",
   "metadata": {},
   "outputs": [
    {
     "name": "stdout",
     "output_type": "stream",
     "text": [
      "Music Recommendations: \n",
      "\n"
     ]
    },
    {
     "data": {
      "text/html": [
       "<div>\n",
       "<style scoped>\n",
       "    .dataframe tbody tr th:only-of-type {\n",
       "        vertical-align: middle;\n",
       "    }\n",
       "\n",
       "    .dataframe tbody tr th {\n",
       "        vertical-align: top;\n",
       "    }\n",
       "\n",
       "    .dataframe thead th {\n",
       "        text-align: right;\n",
       "    }\n",
       "</style>\n",
       "<table border=\"1\" class=\"dataframe\">\n",
       "  <thead>\n",
       "    <tr style=\"text-align: right;\">\n",
       "      <th></th>\n",
       "      <th>Song</th>\n",
       "      <th>Score</th>\n",
       "      <th>Rank</th>\n",
       "    </tr>\n",
       "  </thead>\n",
       "  <tbody>\n",
       "    <tr>\n",
       "      <th>0</th>\n",
       "      <td>Usher featuring will.i.am - OMG</td>\n",
       "      <td>0.045576</td>\n",
       "      <td>1</td>\n",
       "    </tr>\n",
       "    <tr>\n",
       "      <th>1</th>\n",
       "      <td>Kid Cudi / MGMT / Ratatat - Pursuit Of Happine...</td>\n",
       "      <td>0.045071</td>\n",
       "      <td>2</td>\n",
       "    </tr>\n",
       "    <tr>\n",
       "      <th>2</th>\n",
       "      <td>Beyoncé - Halo</td>\n",
       "      <td>0.043027</td>\n",
       "      <td>3</td>\n",
       "    </tr>\n",
       "    <tr>\n",
       "      <th>3</th>\n",
       "      <td>Paramore - The Only Exception (Album Version)</td>\n",
       "      <td>0.042851</td>\n",
       "      <td>4</td>\n",
       "    </tr>\n",
       "    <tr>\n",
       "      <th>4</th>\n",
       "      <td>Train - Hey_ Soul Sister</td>\n",
       "      <td>0.042728</td>\n",
       "      <td>5</td>\n",
       "    </tr>\n",
       "    <tr>\n",
       "      <th>5</th>\n",
       "      <td>OneRepublic - Secrets</td>\n",
       "      <td>0.042554</td>\n",
       "      <td>6</td>\n",
       "    </tr>\n",
       "    <tr>\n",
       "      <th>6</th>\n",
       "      <td>Florence + The Machine - Cosmic Love</td>\n",
       "      <td>0.041469</td>\n",
       "      <td>7</td>\n",
       "    </tr>\n",
       "    <tr>\n",
       "      <th>7</th>\n",
       "      <td>The Script - Breakeven</td>\n",
       "      <td>0.038114</td>\n",
       "      <td>8</td>\n",
       "    </tr>\n",
       "    <tr>\n",
       "      <th>8</th>\n",
       "      <td>La Roux - Bulletproof</td>\n",
       "      <td>0.037494</td>\n",
       "      <td>9</td>\n",
       "    </tr>\n",
       "    <tr>\n",
       "      <th>9</th>\n",
       "      <td>Linkin Park - In The End (Album Version)</td>\n",
       "      <td>0.037255</td>\n",
       "      <td>10</td>\n",
       "    </tr>\n",
       "  </tbody>\n",
       "</table>\n",
       "</div>"
      ],
      "text/plain": [
       "                                                Song     Score Rank\n",
       "0                    Usher featuring will.i.am - OMG  0.045576    1\n",
       "1  Kid Cudi / MGMT / Ratatat - Pursuit Of Happine...  0.045071    2\n",
       "2                                     Beyoncé - Halo  0.043027    3\n",
       "3      Paramore - The Only Exception (Album Version)  0.042851    4\n",
       "4                           Train - Hey_ Soul Sister  0.042728    5\n",
       "5                              OneRepublic - Secrets  0.042554    6\n",
       "6               Florence + The Machine - Cosmic Love  0.041469    7\n",
       "7                             The Script - Breakeven  0.038114    8\n",
       "8                              La Roux - Bulletproof  0.037494    9\n",
       "9           Linkin Park - In The End (Album Version)  0.037255   10"
      ]
     },
     "execution_count": 58,
     "metadata": {},
     "output_type": "execute_result"
    }
   ],
   "source": [
    "eng.get_recommendations(df['user_id'][1000])"
   ]
  },
  {
   "cell_type": "code",
   "execution_count": null,
   "id": "97694b36",
   "metadata": {},
   "outputs": [],
   "source": []
  }
 ],
 "metadata": {
  "kernelspec": {
   "display_name": "Python 3",
   "language": "python",
   "name": "python3"
  },
  "language_info": {
   "codemirror_mode": {
    "name": "ipython",
    "version": 3
   },
   "file_extension": ".py",
   "mimetype": "text/x-python",
   "name": "python",
   "nbconvert_exporter": "python",
   "pygments_lexer": "ipython3",
   "version": "3.8.8"
  }
 },
 "nbformat": 4,
 "nbformat_minor": 5
}
